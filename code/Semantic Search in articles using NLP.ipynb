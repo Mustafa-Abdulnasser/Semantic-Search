{
 "cells": [
  {
   "cell_type": "markdown",
   "id": "18e746fb",
   "metadata": {},
   "source": [
    "# Problem Statement\n",
    "Semantic search aims to enhance search accuracy by comprehending the content of the search query. In contrast to conventional search engines that primarily rely on lexical matches to locate documents, semantic search can also identify synonyms."
   ]
  },
  {
   "cell_type": "markdown",
   "id": "73945067",
   "metadata": {},
   "source": [
    "# Table of Contents\n",
    "\n",
    "1. [**Step 1: Install and Import Required Libraries**](#step-1-install-and-import-required-libraries)\n",
    "2. [**Step 2: Data Loading**](#step-2-data-loading)\n",
    "3. [**Step 3: Data Cleaning and Pre-processing**](#step-3-data-cleaning-and-pre-processing)\n",
    "4. [**Step 4: Unveiling Hot Keywords with Not Fully Fledged Semantic Search**](#step-4-unveiling-hot-keywords-with-not-fully-fledged-semantic-search)\n",
    "    1. [**Step 4-1: Building Word Dictionary**](#step-4-1-building-word-dictionary)\n",
    "    2. [**Step 4-2: Feature Extraction (Bag of Words)**](#step-4-2-feature-extraction-bag-of-words)\n",
    "5. [**Step 5: Unveiling Hot Keywords with Word2Vec Semantic Search**](#step-5-unveiling-hot-keywords-with-word2vec-semantic-search)\n",
    "6. [**Step 6: Unveiling Hot Keywords with Sentence Transformers Search**](#step-6-unveiling-hot-keywords-with-sentence-transformers-search)\n",
    "\n",
    "---"
   ]
  },
  {
   "cell_type": "markdown",
   "id": "dd117ae7",
   "metadata": {},
   "source": [
    "## Step 1 : Install and Import Required Libraries"
   ]
  },
  {
   "cell_type": "code",
   "execution_count": null,
   "id": "0bea6421",
   "metadata": {},
   "outputs": [],
   "source": [
    "# Install the spaCy library\n",
    "!pip install spacy"
   ]
  },
  {
   "cell_type": "code",
   "execution_count": null,
   "id": "592a9992",
   "metadata": {},
   "outputs": [],
   "source": [
    "# Download the spaCy English language model\n",
    "!python -m spacy download en_core_web_sm"
   ]
  },
  {
   "cell_type": "code",
   "execution_count": null,
   "id": "762a50f6",
   "metadata": {},
   "outputs": [],
   "source": [
    "# Install the YAKE keyword extraction library\n",
    "!pip install yake"
   ]
  },
  {
   "cell_type": "code",
   "execution_count": null,
   "id": "52f8393a",
   "metadata": {},
   "outputs": [],
   "source": [
    "# Upgrade the Gensim library to the latest version\n",
    "!pip install --upgrade gensim"
   ]
  },
  {
   "cell_type": "code",
   "execution_count": null,
   "id": "4f771564",
   "metadata": {},
   "outputs": [],
   "source": [
    "# Install the Sentence Transformers library\n",
    "!pip install sentence-transformers"
   ]
  },
  {
   "cell_type": "code",
   "execution_count": 1,
   "id": "113af1fd",
   "metadata": {},
   "outputs": [],
   "source": [
    "# import necessary libraries\n",
    "import warnings\n",
    "warnings.filterwarnings(\"ignore\")\n",
    "\n",
    "import numpy as np # linear algebra\n",
    "import pandas as pd # data processing, CSV file I/O (e.g. pd.read_csv)\n",
    "import ast\n",
    "import spacy\n",
    "import string\n",
    "import gensim\n",
    "import torch\n",
    "import operator\n",
    "import re\n",
    "from gensim.similarities import MatrixSimilarity\n",
    "from spacy.lang.en.stop_words import STOP_WORDS\n",
    "from gensim import corpora, models\n",
    "from operator import itemgetter\n",
    "from sentence_transformers import SentenceTransformer\n",
    "from gensim.models import Word2Vec\n",
    "from yake import KeywordExtractor"
   ]
  },
  {
   "cell_type": "code",
   "execution_count": 3,
   "id": "f97f4329",
   "metadata": {},
   "outputs": [],
   "source": [
    "# Import classes from python scripts\n",
    "from utils import Utils\n",
    "from basic_search import MovieSearch\n",
    "from word2vec_search import Word2VecSearch\n",
    "from Transformer_Search import TransformerSearch"
   ]
  },
  {
   "cell_type": "markdown",
   "id": "6ce4a49b",
   "metadata": {},
   "source": [
    "## Step 2 : Data loading\n",
    "We will now load the movies data csv into dataframe and quickly peek into the columns and data provided"
   ]
  },
  {
   "cell_type": "markdown",
   "id": "ae3301fd",
   "metadata": {},
   "source": [
    "movie-title - Title of the movie\n",
    "\n",
    "year        - year in which the movie released\n",
    "\n",
    "genre       - The style or category of the movie\n",
    "\n",
    "synopsis    - The basic plot of the movie available in IMDB\n",
    "\n",
    "cast        - List of people involved in the movie"
   ]
  },
  {
   "cell_type": "code",
   "execution_count": 4,
   "id": "46e5af5e",
   "metadata": {},
   "outputs": [
    {
     "data": {
      "text/html": [
       "<div>\n",
       "<style scoped>\n",
       "    .dataframe tbody tr th:only-of-type {\n",
       "        vertical-align: middle;\n",
       "    }\n",
       "\n",
       "    .dataframe tbody tr th {\n",
       "        vertical-align: top;\n",
       "    }\n",
       "\n",
       "    .dataframe thead th {\n",
       "        text-align: right;\n",
       "    }\n",
       "</style>\n",
       "<table border=\"1\" class=\"dataframe\">\n",
       "  <thead>\n",
       "    <tr style=\"text-align: right;\">\n",
       "      <th></th>\n",
       "      <th>movie_title</th>\n",
       "      <th>year</th>\n",
       "      <th>genre</th>\n",
       "      <th>synopsis</th>\n",
       "      <th>cast</th>\n",
       "    </tr>\n",
       "  </thead>\n",
       "  <tbody>\n",
       "    <tr>\n",
       "      <th>0</th>\n",
       "      <td>A Splash of Love</td>\n",
       "      <td>2022.0</td>\n",
       "      <td>Comedy, Romance, Back to top</td>\n",
       "      <td>Chloe Turner, a Ph.D. candidate in Marine Mamm...</td>\n",
       "      <td>Heather Hawthorn Doyle (dir.), Rhiannon Fish, ...</td>\n",
       "    </tr>\n",
       "    <tr>\n",
       "      <th>1</th>\n",
       "      <td>The Grey Man</td>\n",
       "      <td>2007.0</td>\n",
       "      <td>Biography, Crime, Drama, Back to top</td>\n",
       "      <td>Kevin Dodds is a browbeaten deputy bank manage...</td>\n",
       "      <td>Declan O'Dwyer (dir.), Daniel Ryan, Nitin Ganatra</td>\n",
       "    </tr>\n",
       "    <tr>\n",
       "      <th>2</th>\n",
       "      <td>Descendants</td>\n",
       "      <td>2015.0</td>\n",
       "      <td>Comedy, Family, Fantasy, Back to top</td>\n",
       "      <td>Ben, son of Belle and the once selfish Beast, ...</td>\n",
       "      <td>Kenny Ortega (dir.), Dove Cameron, Cameron Boyce</td>\n",
       "    </tr>\n",
       "    <tr>\n",
       "      <th>3</th>\n",
       "      <td>Teen Wolf: The Movie</td>\n",
       "      <td>NaN</td>\n",
       "      <td>Action, Comedy, Drama, Back to top</td>\n",
       "      <td>A full moon rises in Beacon Hills, and with it...</td>\n",
       "      <td>Russell Mulcahy (dir.), Melissa Ponzio, Linden...</td>\n",
       "    </tr>\n",
       "    <tr>\n",
       "      <th>4</th>\n",
       "      <td>High School Musical</td>\n",
       "      <td>2006.0</td>\n",
       "      <td>Comedy, Drama, Family, Back to top</td>\n",
       "      <td>Troy Bolton and Gabriella Montez are two total...</td>\n",
       "      <td>Kenny Ortega (dir.), Zac Efron, Vanessa Hudgens</td>\n",
       "    </tr>\n",
       "    <tr>\n",
       "      <th>...</th>\n",
       "      <td>...</td>\n",
       "      <td>...</td>\n",
       "      <td>...</td>\n",
       "      <td>...</td>\n",
       "      <td>...</td>\n",
       "    </tr>\n",
       "    <tr>\n",
       "      <th>10050</th>\n",
       "      <td>Hyperland</td>\n",
       "      <td>2021.0</td>\n",
       "      <td>Drama, Back to top</td>\n",
       "      <td>A mother afflicted with depression comes into ...</td>\n",
       "      <td>Mario Sixtus (dir.), Lorna Ishema, Samuel Schn...</td>\n",
       "    </tr>\n",
       "    <tr>\n",
       "      <th>10051</th>\n",
       "      <td>The Brass Ring</td>\n",
       "      <td>1983.0</td>\n",
       "      <td>Crime, Drama, Back to top</td>\n",
       "      <td>When a wealthy businessman is murdered by a hi...</td>\n",
       "      <td>Bob Balaban (dir.), Dina Merrill, Sylvia Sidney</td>\n",
       "    </tr>\n",
       "    <tr>\n",
       "      <th>10052</th>\n",
       "      <td>One Hot Summer Night</td>\n",
       "      <td>1998.0</td>\n",
       "      <td>Family, Back to top</td>\n",
       "      <td>A look at Yellowstone National Park's wildlife...</td>\n",
       "      <td>James A. Contner (dir.), Erika Eleniak, Brian ...</td>\n",
       "    </tr>\n",
       "    <tr>\n",
       "      <th>10053</th>\n",
       "      <td>Yellowstone in Four Seasons</td>\n",
       "      <td>2017.0</td>\n",
       "      <td>Drama, Back to top</td>\n",
       "      <td>Biopic of sorts about Agatha Christie, the fam...</td>\n",
       "      <td>Daniel P. Dauterive (dir.)</td>\n",
       "    </tr>\n",
       "    <tr>\n",
       "      <th>10054</th>\n",
       "      <td>Agatha Christie: A Life in Pictures</td>\n",
       "      <td>2004.0</td>\n",
       "      <td>Drama, History, Back to top</td>\n",
       "      <td>It looks like we don't have any Plot Summaries...</td>\n",
       "      <td>Richard Curson Smith (dir.), Olivia Williams, ...</td>\n",
       "    </tr>\n",
       "  </tbody>\n",
       "</table>\n",
       "<p>10055 rows × 5 columns</p>\n",
       "</div>"
      ],
      "text/plain": [
       "                               movie_title    year  \\\n",
       "0                         A Splash of Love  2022.0   \n",
       "1                             The Grey Man  2007.0   \n",
       "2                              Descendants  2015.0   \n",
       "3                     Teen Wolf: The Movie     NaN   \n",
       "4                      High School Musical  2006.0   \n",
       "...                                    ...     ...   \n",
       "10050                            Hyperland  2021.0   \n",
       "10051                       The Brass Ring  1983.0   \n",
       "10052                 One Hot Summer Night  1998.0   \n",
       "10053          Yellowstone in Four Seasons  2017.0   \n",
       "10054  Agatha Christie: A Life in Pictures  2004.0   \n",
       "\n",
       "                                      genre  \\\n",
       "0              Comedy, Romance, Back to top   \n",
       "1      Biography, Crime, Drama, Back to top   \n",
       "2      Comedy, Family, Fantasy, Back to top   \n",
       "3        Action, Comedy, Drama, Back to top   \n",
       "4        Comedy, Drama, Family, Back to top   \n",
       "...                                     ...   \n",
       "10050                    Drama, Back to top   \n",
       "10051             Crime, Drama, Back to top   \n",
       "10052                   Family, Back to top   \n",
       "10053                    Drama, Back to top   \n",
       "10054           Drama, History, Back to top   \n",
       "\n",
       "                                                synopsis  \\\n",
       "0      Chloe Turner, a Ph.D. candidate in Marine Mamm...   \n",
       "1      Kevin Dodds is a browbeaten deputy bank manage...   \n",
       "2      Ben, son of Belle and the once selfish Beast, ...   \n",
       "3      A full moon rises in Beacon Hills, and with it...   \n",
       "4      Troy Bolton and Gabriella Montez are two total...   \n",
       "...                                                  ...   \n",
       "10050  A mother afflicted with depression comes into ...   \n",
       "10051  When a wealthy businessman is murdered by a hi...   \n",
       "10052  A look at Yellowstone National Park's wildlife...   \n",
       "10053  Biopic of sorts about Agatha Christie, the fam...   \n",
       "10054  It looks like we don't have any Plot Summaries...   \n",
       "\n",
       "                                                    cast  \n",
       "0      Heather Hawthorn Doyle (dir.), Rhiannon Fish, ...  \n",
       "1      Declan O'Dwyer (dir.), Daniel Ryan, Nitin Ganatra  \n",
       "2       Kenny Ortega (dir.), Dove Cameron, Cameron Boyce  \n",
       "3      Russell Mulcahy (dir.), Melissa Ponzio, Linden...  \n",
       "4        Kenny Ortega (dir.), Zac Efron, Vanessa Hudgens  \n",
       "...                                                  ...  \n",
       "10050  Mario Sixtus (dir.), Lorna Ishema, Samuel Schn...  \n",
       "10051    Bob Balaban (dir.), Dina Merrill, Sylvia Sidney  \n",
       "10052  James A. Contner (dir.), Erika Eleniak, Brian ...  \n",
       "10053                         Daniel P. Dauterive (dir.)  \n",
       "10054  Richard Curson Smith (dir.), Olivia Williams, ...  \n",
       "\n",
       "[10055 rows x 5 columns]"
      ]
     },
     "execution_count": 4,
     "metadata": {},
     "output_type": "execute_result"
    }
   ],
   "source": [
    "# Read the CSV file into a DataFrame\n",
    "df = pd.read_csv('C:/Users/Mustafa Abdulnasser/Desktop/Task 3/data/imdb_movies.csv')\n",
    "\n",
    "# Display the DataFrame\n",
    "df"
   ]
  },
  {
   "cell_type": "markdown",
   "id": "28a96f86",
   "metadata": {},
   "source": [
    "## Step 3 : Data Cleaning and Pre-processing\n",
    "Data pre-processing is one of the most significant step in text analytics. The purpose is to remove any unwanted words or characters which are written for human readability, but won't contribute to topic modelling in anyway."
   ]
  },
  {
   "cell_type": "markdown",
   "id": "b182e7e0",
   "metadata": {},
   "source": [
    "Now let us apply removing dublications in our dataset"
   ]
  },
  {
   "cell_type": "code",
   "execution_count": 5,
   "id": "5dc2d2e1",
   "metadata": {},
   "outputs": [],
   "source": [
    "# Create an instance of the Utils class\n",
    "utils = Utils()"
   ]
  },
  {
   "cell_type": "code",
   "execution_count": 6,
   "id": "1cca9ae2",
   "metadata": {},
   "outputs": [
    {
     "name": "stdout",
     "output_type": "stream",
     "text": [
      "Duplicates before:\n"
     ]
    },
    {
     "data": {
      "text/html": [
       "<div>\n",
       "<style scoped>\n",
       "    .dataframe tbody tr th:only-of-type {\n",
       "        vertical-align: middle;\n",
       "    }\n",
       "\n",
       "    .dataframe tbody tr th {\n",
       "        vertical-align: top;\n",
       "    }\n",
       "\n",
       "    .dataframe thead th {\n",
       "        text-align: right;\n",
       "    }\n",
       "</style>\n",
       "<table border=\"1\" class=\"dataframe\">\n",
       "  <thead>\n",
       "    <tr style=\"text-align: right;\">\n",
       "      <th></th>\n",
       "      <th>movie_title</th>\n",
       "      <th>year</th>\n",
       "      <th>genre</th>\n",
       "      <th>synopsis</th>\n",
       "      <th>cast</th>\n",
       "    </tr>\n",
       "  </thead>\n",
       "  <tbody>\n",
       "    <tr>\n",
       "      <th>56</th>\n",
       "      <td>A Splash of Love</td>\n",
       "      <td>2022.0</td>\n",
       "      <td>Biography, Crime, Drama, Back to top</td>\n",
       "      <td>Kevin Dodds is a browbeaten deputy bank manage...</td>\n",
       "      <td>Heather Hawthorn Doyle (dir.), Rhiannon Fish, ...</td>\n",
       "    </tr>\n",
       "    <tr>\n",
       "      <th>57</th>\n",
       "      <td>The Grey Man</td>\n",
       "      <td>2007.0</td>\n",
       "      <td>Comedy, Family, Fantasy, Back to top</td>\n",
       "      <td>Ben, son of Belle and the once selfish Beast, ...</td>\n",
       "      <td>Declan O'Dwyer (dir.), Daniel Ryan, Nitin Ganatra</td>\n",
       "    </tr>\n",
       "    <tr>\n",
       "      <th>58</th>\n",
       "      <td>Descendants</td>\n",
       "      <td>2015.0</td>\n",
       "      <td>Action, Comedy, Drama, Back to top</td>\n",
       "      <td>A full moon rises in Beacon Hills, and with it...</td>\n",
       "      <td>Kenny Ortega (dir.), Dove Cameron, Cameron Boyce</td>\n",
       "    </tr>\n",
       "    <tr>\n",
       "      <th>59</th>\n",
       "      <td>Teen Wolf: The Movie</td>\n",
       "      <td>NaN</td>\n",
       "      <td>Comedy, Drama, Family, Back to top</td>\n",
       "      <td>Troy Bolton and Gabriella Montez are two total...</td>\n",
       "      <td>Russell Mulcahy (dir.), Melissa Ponzio, Linden...</td>\n",
       "    </tr>\n",
       "    <tr>\n",
       "      <th>60</th>\n",
       "      <td>High School Musical</td>\n",
       "      <td>2006.0</td>\n",
       "      <td>Action, Drama, Family, Back to top</td>\n",
       "      <td>Royal Navy captain Wentworth was haughtily tur...</td>\n",
       "      <td>Kenny Ortega (dir.), Zac Efron, Vanessa Hudgens</td>\n",
       "    </tr>\n",
       "    <tr>\n",
       "      <th>...</th>\n",
       "      <td>...</td>\n",
       "      <td>...</td>\n",
       "      <td>...</td>\n",
       "      <td>...</td>\n",
       "      <td>...</td>\n",
       "    </tr>\n",
       "    <tr>\n",
       "      <th>9960</th>\n",
       "      <td>Dummy</td>\n",
       "      <td>1977.0</td>\n",
       "      <td>Drama, Back to top</td>\n",
       "      <td>Jim Rayborn has for years been doing most of t...</td>\n",
       "      <td>Franc Roddam (dir.), Geraldine James, Lara Crooks</td>\n",
       "    </tr>\n",
       "    <tr>\n",
       "      <th>9961</th>\n",
       "      <td>You Lucky Dog</td>\n",
       "      <td>2010.0</td>\n",
       "      <td>Comedy, Back to top</td>\n",
       "      <td>It looks like we don't have any Plot Summaries...</td>\n",
       "      <td>John Bradshaw (dir.), Natasha Henstridge, Harr...</td>\n",
       "    </tr>\n",
       "    <tr>\n",
       "      <th>9983</th>\n",
       "      <td>Home for the Holidays</td>\n",
       "      <td>2005.0</td>\n",
       "      <td>Documentary, Back to top</td>\n",
       "      <td>The show focuses on the extraordinary stories ...</td>\n",
       "      <td>Richard Compton (dir.), Sean Young, Lucia Walters</td>\n",
       "    </tr>\n",
       "    <tr>\n",
       "      <th>10028</th>\n",
       "      <td>Maternal Instinct</td>\n",
       "      <td>2017.0</td>\n",
       "      <td>Documentary, Back to top</td>\n",
       "      <td>A history and celebration of the Lincoln Highw...</td>\n",
       "      <td>George Erschbamer (dir.), Laura Mennell, Marcu...</td>\n",
       "    </tr>\n",
       "    <tr>\n",
       "      <th>10041</th>\n",
       "      <td>Dr. Jekyll and Mr. Hyde</td>\n",
       "      <td>1986.0</td>\n",
       "      <td>Documentary, Back to top</td>\n",
       "      <td>It looks like we don't have any Plot Summaries...</td>\n",
       "      <td>Max Meldrum, David Nettheim</td>\n",
       "    </tr>\n",
       "  </tbody>\n",
       "</table>\n",
       "<p>309 rows × 5 columns</p>\n",
       "</div>"
      ],
      "text/plain": [
       "                   movie_title    year                                 genre  \\\n",
       "56            A Splash of Love  2022.0  Biography, Crime, Drama, Back to top   \n",
       "57                The Grey Man  2007.0  Comedy, Family, Fantasy, Back to top   \n",
       "58                 Descendants  2015.0    Action, Comedy, Drama, Back to top   \n",
       "59        Teen Wolf: The Movie     NaN    Comedy, Drama, Family, Back to top   \n",
       "60         High School Musical  2006.0    Action, Drama, Family, Back to top   \n",
       "...                        ...     ...                                   ...   \n",
       "9960                     Dummy  1977.0                    Drama, Back to top   \n",
       "9961             You Lucky Dog  2010.0                   Comedy, Back to top   \n",
       "9983     Home for the Holidays  2005.0              Documentary, Back to top   \n",
       "10028        Maternal Instinct  2017.0              Documentary, Back to top   \n",
       "10041  Dr. Jekyll and Mr. Hyde  1986.0              Documentary, Back to top   \n",
       "\n",
       "                                                synopsis  \\\n",
       "56     Kevin Dodds is a browbeaten deputy bank manage...   \n",
       "57     Ben, son of Belle and the once selfish Beast, ...   \n",
       "58     A full moon rises in Beacon Hills, and with it...   \n",
       "59     Troy Bolton and Gabriella Montez are two total...   \n",
       "60     Royal Navy captain Wentworth was haughtily tur...   \n",
       "...                                                  ...   \n",
       "9960   Jim Rayborn has for years been doing most of t...   \n",
       "9961   It looks like we don't have any Plot Summaries...   \n",
       "9983   The show focuses on the extraordinary stories ...   \n",
       "10028  A history and celebration of the Lincoln Highw...   \n",
       "10041  It looks like we don't have any Plot Summaries...   \n",
       "\n",
       "                                                    cast  \n",
       "56     Heather Hawthorn Doyle (dir.), Rhiannon Fish, ...  \n",
       "57     Declan O'Dwyer (dir.), Daniel Ryan, Nitin Ganatra  \n",
       "58      Kenny Ortega (dir.), Dove Cameron, Cameron Boyce  \n",
       "59     Russell Mulcahy (dir.), Melissa Ponzio, Linden...  \n",
       "60       Kenny Ortega (dir.), Zac Efron, Vanessa Hudgens  \n",
       "...                                                  ...  \n",
       "9960   Franc Roddam (dir.), Geraldine James, Lara Crooks  \n",
       "9961   John Bradshaw (dir.), Natasha Henstridge, Harr...  \n",
       "9983   Richard Compton (dir.), Sean Young, Lucia Walters  \n",
       "10028  George Erschbamer (dir.), Laura Mennell, Marcu...  \n",
       "10041                        Max Meldrum, David Nettheim  \n",
       "\n",
       "[309 rows x 5 columns]"
      ]
     },
     "metadata": {},
     "output_type": "display_data"
    },
    {
     "name": "stdout",
     "output_type": "stream",
     "text": [
      "\n",
      "DataFrame without Duplicates:\n"
     ]
    },
    {
     "data": {
      "text/html": [
       "<div>\n",
       "<style scoped>\n",
       "    .dataframe tbody tr th:only-of-type {\n",
       "        vertical-align: middle;\n",
       "    }\n",
       "\n",
       "    .dataframe tbody tr th {\n",
       "        vertical-align: top;\n",
       "    }\n",
       "\n",
       "    .dataframe thead th {\n",
       "        text-align: right;\n",
       "    }\n",
       "</style>\n",
       "<table border=\"1\" class=\"dataframe\">\n",
       "  <thead>\n",
       "    <tr style=\"text-align: right;\">\n",
       "      <th></th>\n",
       "      <th>movie_title</th>\n",
       "      <th>year</th>\n",
       "      <th>genre</th>\n",
       "      <th>synopsis</th>\n",
       "      <th>cast</th>\n",
       "    </tr>\n",
       "  </thead>\n",
       "  <tbody>\n",
       "    <tr>\n",
       "      <th>0</th>\n",
       "      <td>A Splash of Love</td>\n",
       "      <td>2022.0</td>\n",
       "      <td>Comedy, Romance, Back to top</td>\n",
       "      <td>Chloe Turner, a Ph.D. candidate in Marine Mamm...</td>\n",
       "      <td>Heather Hawthorn Doyle (dir.), Rhiannon Fish, ...</td>\n",
       "    </tr>\n",
       "    <tr>\n",
       "      <th>1</th>\n",
       "      <td>The Grey Man</td>\n",
       "      <td>2007.0</td>\n",
       "      <td>Biography, Crime, Drama, Back to top</td>\n",
       "      <td>Kevin Dodds is a browbeaten deputy bank manage...</td>\n",
       "      <td>Declan O'Dwyer (dir.), Daniel Ryan, Nitin Ganatra</td>\n",
       "    </tr>\n",
       "    <tr>\n",
       "      <th>2</th>\n",
       "      <td>Descendants</td>\n",
       "      <td>2015.0</td>\n",
       "      <td>Comedy, Family, Fantasy, Back to top</td>\n",
       "      <td>Ben, son of Belle and the once selfish Beast, ...</td>\n",
       "      <td>Kenny Ortega (dir.), Dove Cameron, Cameron Boyce</td>\n",
       "    </tr>\n",
       "    <tr>\n",
       "      <th>3</th>\n",
       "      <td>Teen Wolf: The Movie</td>\n",
       "      <td>NaN</td>\n",
       "      <td>Action, Comedy, Drama, Back to top</td>\n",
       "      <td>A full moon rises in Beacon Hills, and with it...</td>\n",
       "      <td>Russell Mulcahy (dir.), Melissa Ponzio, Linden...</td>\n",
       "    </tr>\n",
       "    <tr>\n",
       "      <th>4</th>\n",
       "      <td>High School Musical</td>\n",
       "      <td>2006.0</td>\n",
       "      <td>Comedy, Drama, Family, Back to top</td>\n",
       "      <td>Troy Bolton and Gabriella Montez are two total...</td>\n",
       "      <td>Kenny Ortega (dir.), Zac Efron, Vanessa Hudgens</td>\n",
       "    </tr>\n",
       "    <tr>\n",
       "      <th>...</th>\n",
       "      <td>...</td>\n",
       "      <td>...</td>\n",
       "      <td>...</td>\n",
       "      <td>...</td>\n",
       "      <td>...</td>\n",
       "    </tr>\n",
       "    <tr>\n",
       "      <th>9741</th>\n",
       "      <td>Hyperland</td>\n",
       "      <td>2021.0</td>\n",
       "      <td>Drama, Back to top</td>\n",
       "      <td>A mother afflicted with depression comes into ...</td>\n",
       "      <td>Mario Sixtus (dir.), Lorna Ishema, Samuel Schn...</td>\n",
       "    </tr>\n",
       "    <tr>\n",
       "      <th>9742</th>\n",
       "      <td>The Brass Ring</td>\n",
       "      <td>1983.0</td>\n",
       "      <td>Crime, Drama, Back to top</td>\n",
       "      <td>When a wealthy businessman is murdered by a hi...</td>\n",
       "      <td>Bob Balaban (dir.), Dina Merrill, Sylvia Sidney</td>\n",
       "    </tr>\n",
       "    <tr>\n",
       "      <th>9743</th>\n",
       "      <td>One Hot Summer Night</td>\n",
       "      <td>1998.0</td>\n",
       "      <td>Family, Back to top</td>\n",
       "      <td>A look at Yellowstone National Park's wildlife...</td>\n",
       "      <td>James A. Contner (dir.), Erika Eleniak, Brian ...</td>\n",
       "    </tr>\n",
       "    <tr>\n",
       "      <th>9744</th>\n",
       "      <td>Yellowstone in Four Seasons</td>\n",
       "      <td>2017.0</td>\n",
       "      <td>Drama, Back to top</td>\n",
       "      <td>Biopic of sorts about Agatha Christie, the fam...</td>\n",
       "      <td>Daniel P. Dauterive (dir.)</td>\n",
       "    </tr>\n",
       "    <tr>\n",
       "      <th>9745</th>\n",
       "      <td>Agatha Christie: A Life in Pictures</td>\n",
       "      <td>2004.0</td>\n",
       "      <td>Drama, History, Back to top</td>\n",
       "      <td>It looks like we don't have any Plot Summaries...</td>\n",
       "      <td>Richard Curson Smith (dir.), Olivia Williams, ...</td>\n",
       "    </tr>\n",
       "  </tbody>\n",
       "</table>\n",
       "<p>9746 rows × 5 columns</p>\n",
       "</div>"
      ],
      "text/plain": [
       "                              movie_title    year  \\\n",
       "0                        A Splash of Love  2022.0   \n",
       "1                            The Grey Man  2007.0   \n",
       "2                             Descendants  2015.0   \n",
       "3                    Teen Wolf: The Movie     NaN   \n",
       "4                     High School Musical  2006.0   \n",
       "...                                   ...     ...   \n",
       "9741                            Hyperland  2021.0   \n",
       "9742                       The Brass Ring  1983.0   \n",
       "9743                 One Hot Summer Night  1998.0   \n",
       "9744          Yellowstone in Four Seasons  2017.0   \n",
       "9745  Agatha Christie: A Life in Pictures  2004.0   \n",
       "\n",
       "                                     genre  \\\n",
       "0             Comedy, Romance, Back to top   \n",
       "1     Biography, Crime, Drama, Back to top   \n",
       "2     Comedy, Family, Fantasy, Back to top   \n",
       "3       Action, Comedy, Drama, Back to top   \n",
       "4       Comedy, Drama, Family, Back to top   \n",
       "...                                    ...   \n",
       "9741                    Drama, Back to top   \n",
       "9742             Crime, Drama, Back to top   \n",
       "9743                   Family, Back to top   \n",
       "9744                    Drama, Back to top   \n",
       "9745           Drama, History, Back to top   \n",
       "\n",
       "                                               synopsis  \\\n",
       "0     Chloe Turner, a Ph.D. candidate in Marine Mamm...   \n",
       "1     Kevin Dodds is a browbeaten deputy bank manage...   \n",
       "2     Ben, son of Belle and the once selfish Beast, ...   \n",
       "3     A full moon rises in Beacon Hills, and with it...   \n",
       "4     Troy Bolton and Gabriella Montez are two total...   \n",
       "...                                                 ...   \n",
       "9741  A mother afflicted with depression comes into ...   \n",
       "9742  When a wealthy businessman is murdered by a hi...   \n",
       "9743  A look at Yellowstone National Park's wildlife...   \n",
       "9744  Biopic of sorts about Agatha Christie, the fam...   \n",
       "9745  It looks like we don't have any Plot Summaries...   \n",
       "\n",
       "                                                   cast  \n",
       "0     Heather Hawthorn Doyle (dir.), Rhiannon Fish, ...  \n",
       "1     Declan O'Dwyer (dir.), Daniel Ryan, Nitin Ganatra  \n",
       "2      Kenny Ortega (dir.), Dove Cameron, Cameron Boyce  \n",
       "3     Russell Mulcahy (dir.), Melissa Ponzio, Linden...  \n",
       "4       Kenny Ortega (dir.), Zac Efron, Vanessa Hudgens  \n",
       "...                                                 ...  \n",
       "9741  Mario Sixtus (dir.), Lorna Ishema, Samuel Schn...  \n",
       "9742    Bob Balaban (dir.), Dina Merrill, Sylvia Sidney  \n",
       "9743  James A. Contner (dir.), Erika Eleniak, Brian ...  \n",
       "9744                         Daniel P. Dauterive (dir.)  \n",
       "9745  Richard Curson Smith (dir.), Olivia Williams, ...  \n",
       "\n",
       "[9746 rows x 5 columns]"
      ]
     },
     "metadata": {},
     "output_type": "display_data"
    },
    {
     "name": "stdout",
     "output_type": "stream",
     "text": [
      "\n",
      "Duplicates after:\n"
     ]
    },
    {
     "data": {
      "text/html": [
       "<div>\n",
       "<style scoped>\n",
       "    .dataframe tbody tr th:only-of-type {\n",
       "        vertical-align: middle;\n",
       "    }\n",
       "\n",
       "    .dataframe tbody tr th {\n",
       "        vertical-align: top;\n",
       "    }\n",
       "\n",
       "    .dataframe thead th {\n",
       "        text-align: right;\n",
       "    }\n",
       "</style>\n",
       "<table border=\"1\" class=\"dataframe\">\n",
       "  <thead>\n",
       "    <tr style=\"text-align: right;\">\n",
       "      <th></th>\n",
       "      <th>movie_title</th>\n",
       "      <th>year</th>\n",
       "      <th>genre</th>\n",
       "      <th>synopsis</th>\n",
       "      <th>cast</th>\n",
       "    </tr>\n",
       "  </thead>\n",
       "  <tbody>\n",
       "  </tbody>\n",
       "</table>\n",
       "</div>"
      ],
      "text/plain": [
       "Empty DataFrame\n",
       "Columns: [movie_title, year, genre, synopsis, cast]\n",
       "Index: []"
      ]
     },
     "metadata": {},
     "output_type": "display_data"
    },
    {
     "name": "stdout",
     "output_type": "stream",
     "text": [
      "\n",
      "Total Rows in Original DataFrame: 10055\n",
      "Total Rows in Filtered DataFrame: 9746\n",
      "Total Duplicates Before: 309\n",
      "Total Duplicates After: 0\n"
     ]
    }
   ],
   "source": [
    "# Drop duplicates by a specified column\n",
    "df = utils.drop_duplicates_by_column(df, column_to_check='movie_title')"
   ]
  },
  {
   "cell_type": "markdown",
   "id": "35c666cf",
   "metadata": {},
   "source": [
    "Now let us apply the data-cleaning and pre-processing function to our movies \"synopsis\" column and store the cleaned, tokenized data into new column"
   ]
  },
  {
   "cell_type": "code",
   "execution_count": 7,
   "id": "92fa2c6a",
   "metadata": {},
   "outputs": [],
   "source": [
    "# df['synopsis'] contains the text I want to tokenize\n",
    "print ('Cleaning and Tokenizing...')\n",
    "%time df['tokenized_synopsis'] = df['synopsis'].map(utils.custom_tokenizer)"
   ]
  },
  {
   "cell_type": "code",
   "execution_count": 8,
   "id": "66758e60",
   "metadata": {},
   "outputs": [
    {
     "data": {
      "text/html": [
       "<div>\n",
       "<style scoped>\n",
       "    .dataframe tbody tr th:only-of-type {\n",
       "        vertical-align: middle;\n",
       "    }\n",
       "\n",
       "    .dataframe tbody tr th {\n",
       "        vertical-align: top;\n",
       "    }\n",
       "\n",
       "    .dataframe thead th {\n",
       "        text-align: right;\n",
       "    }\n",
       "</style>\n",
       "<table border=\"1\" class=\"dataframe\">\n",
       "  <thead>\n",
       "    <tr style=\"text-align: right;\">\n",
       "      <th></th>\n",
       "      <th>movie_title</th>\n",
       "      <th>year</th>\n",
       "      <th>genre</th>\n",
       "      <th>synopsis</th>\n",
       "      <th>cast</th>\n",
       "    </tr>\n",
       "  </thead>\n",
       "  <tbody>\n",
       "    <tr>\n",
       "      <th>0</th>\n",
       "      <td>A Splash of Love</td>\n",
       "      <td>2022.0</td>\n",
       "      <td>Comedy, Romance, Back to top</td>\n",
       "      <td>Chloe Turner, a Ph.D. candidate in Marine Mamm...</td>\n",
       "      <td>Heather Hawthorn Doyle (dir.), Rhiannon Fish, ...</td>\n",
       "    </tr>\n",
       "    <tr>\n",
       "      <th>1</th>\n",
       "      <td>The Grey Man</td>\n",
       "      <td>2007.0</td>\n",
       "      <td>Biography, Crime, Drama, Back to top</td>\n",
       "      <td>Kevin Dodds is a browbeaten deputy bank manage...</td>\n",
       "      <td>Declan O'Dwyer (dir.), Daniel Ryan, Nitin Ganatra</td>\n",
       "    </tr>\n",
       "    <tr>\n",
       "      <th>2</th>\n",
       "      <td>Descendants</td>\n",
       "      <td>2015.0</td>\n",
       "      <td>Comedy, Family, Fantasy, Back to top</td>\n",
       "      <td>Ben, son of Belle and the once selfish Beast, ...</td>\n",
       "      <td>Kenny Ortega (dir.), Dove Cameron, Cameron Boyce</td>\n",
       "    </tr>\n",
       "    <tr>\n",
       "      <th>3</th>\n",
       "      <td>Teen Wolf: The Movie</td>\n",
       "      <td>NaN</td>\n",
       "      <td>Action, Comedy, Drama, Back to top</td>\n",
       "      <td>A full moon rises in Beacon Hills, and with it...</td>\n",
       "      <td>Russell Mulcahy (dir.), Melissa Ponzio, Linden...</td>\n",
       "    </tr>\n",
       "    <tr>\n",
       "      <th>4</th>\n",
       "      <td>High School Musical</td>\n",
       "      <td>2006.0</td>\n",
       "      <td>Comedy, Drama, Family, Back to top</td>\n",
       "      <td>Troy Bolton and Gabriella Montez are two total...</td>\n",
       "      <td>Kenny Ortega (dir.), Zac Efron, Vanessa Hudgens</td>\n",
       "    </tr>\n",
       "  </tbody>\n",
       "</table>\n",
       "</div>"
      ],
      "text/plain": [
       "            movie_title    year                                 genre  \\\n",
       "0      A Splash of Love  2022.0          Comedy, Romance, Back to top   \n",
       "1          The Grey Man  2007.0  Biography, Crime, Drama, Back to top   \n",
       "2           Descendants  2015.0  Comedy, Family, Fantasy, Back to top   \n",
       "3  Teen Wolf: The Movie     NaN    Action, Comedy, Drama, Back to top   \n",
       "4   High School Musical  2006.0    Comedy, Drama, Family, Back to top   \n",
       "\n",
       "                                            synopsis  \\\n",
       "0  Chloe Turner, a Ph.D. candidate in Marine Mamm...   \n",
       "1  Kevin Dodds is a browbeaten deputy bank manage...   \n",
       "2  Ben, son of Belle and the once selfish Beast, ...   \n",
       "3  A full moon rises in Beacon Hills, and with it...   \n",
       "4  Troy Bolton and Gabriella Montez are two total...   \n",
       "\n",
       "                                                cast  \n",
       "0  Heather Hawthorn Doyle (dir.), Rhiannon Fish, ...  \n",
       "1  Declan O'Dwyer (dir.), Daniel Ryan, Nitin Ganatra  \n",
       "2   Kenny Ortega (dir.), Dove Cameron, Cameron Boyce  \n",
       "3  Russell Mulcahy (dir.), Melissa Ponzio, Linden...  \n",
       "4    Kenny Ortega (dir.), Zac Efron, Vanessa Hudgens  "
      ]
     },
     "execution_count": 8,
     "metadata": {},
     "output_type": "execute_result"
    }
   ],
   "source": [
    "# Display the Head of the DataFrame\n",
    "df.head()"
   ]
  },
  {
   "cell_type": "markdown",
   "id": "46a0e0aa",
   "metadata": {},
   "source": [
    "Store the tokenized column into a sepearte variable for ease of operations in subsequent sections and have a quick peek into the values"
   ]
  },
  {
   "cell_type": "code",
   "execution_count": 11,
   "id": "103f90bc",
   "metadata": {},
   "outputs": [
    {
     "data": {
      "text/plain": [
       "0    [chloe, turner, candidate, marine, mammalogy, ...\n",
       "1    [kevin, dodds, browbeaten, deputy, bank, manag...\n",
       "2    [ben, son, belle, selfish, beast, poise, thron...\n",
       "3    [moon, rise, beacon, hills, terrifying, evil, ...\n",
       "4    [troy, bolton, gabriella, montez, totally, dif...\n",
       "Name: tokenized_synopsis, dtype: object"
      ]
     },
     "execution_count": 11,
     "metadata": {},
     "output_type": "execute_result"
    }
   ],
   "source": [
    "# Extract the 'tokenized_synopsis' column from the DataFrame and assign it to the variable 'movie_plot'\n",
    "movie_plot = df['tokenized_synopsis']\n",
    "\n",
    "# Display the first 5 rows of the 'movie_plot' Series\n",
    "movie_plot[0:5]"
   ]
  },
  {
   "cell_type": "markdown",
   "id": "c066951c",
   "metadata": {},
   "source": [
    "## Step 4 : Unveiling Hot Keywords with Not Fully Fledged Semantic Search"
   ]
  },
  {
   "cell_type": "markdown",
   "id": "69ab7981",
   "metadata": {},
   "source": [
    "### Step 4-1 : Building Word Dictionary\n",
    "In the next step we will build the vocabulary of the corpus in which all the unique words are given IDs and their frequency counds are also stored. You may note that we are using gensim library for building the dictionary. In gensim, the words are referred as \"tokens\" adn the index of each word in the dictionary is called ID"
   ]
  },
  {
   "cell_type": "code",
   "execution_count": 12,
   "id": "635b6d21",
   "metadata": {},
   "outputs": [
    {
     "name": "stdout",
     "output_type": "stream",
     "text": [
      "Wall time: 354 ms\n"
     ]
    }
   ],
   "source": [
    "#creating term dictionary\n",
    "%time dictionary = corpora.Dictionary(movie_plot)\n",
    "\n",
    "#list of few which which can be further removed\n",
    "stoplist = set('hello and if this can would should could tell ask stop come go')\n",
    "stop_ids = [dictionary.token2id[stopword] for stopword in stoplist if stopword in dictionary.token2id]\n",
    "dictionary.filter_tokens(stop_ids)"
   ]
  },
  {
   "cell_type": "code",
   "execution_count": 13,
   "id": "972007ec",
   "metadata": {},
   "outputs": [
    {
     "name": "stdout",
     "output_type": "stream",
     "text": [
      "[[['affect', 0], ['area', 1], ['arguably', 2], ['ask', 3], ['averse', 4], ['base', 5], ['ben', 6], ['cable', 7], ['candidate', 8], ['central', 9], ['chloe', 10], ['college', 11], ['concern', 12], ['conservation', 13], ['cove', 14], ['deem', 15], ['deny', 16], ['different', 17], ['dissertation', 18], ['distance', 19], ['echo', 20], ['economics', 21], ['endangered', 22], ['eventually', 23], ['fall', 24], ['field', 25], ['fish', 26], ['guide', 27], ['having', 28], ['help', 29], ['home', 30], ['incomplete', 31], ['independence', 32], ['interest', 33], ['knowledgeable', 34], ['let', 35], ['like', 36], ['locale', 37], ['locate', 38], ['mammalogy', 39], ['marcus', 40], ['marine', 41], ['miami', 42], ['non', 43], ['northwest', 44], ['obstacle', 45], ['operate', 46], ['opportune', 47], ['opportunity', 48], ['orca', 49], ['orcas', 50]]]\n"
     ]
    }
   ],
   "source": [
    "#print top 50 items from the dictionary with their unique token-id\n",
    "dict_tokens = [[[dictionary[key], dictionary.token2id[dictionary[key]]] for key, value in dictionary.items() if key <= 50]]\n",
    "print (dict_tokens)"
   ]
  },
  {
   "cell_type": "markdown",
   "id": "b511c523",
   "metadata": {},
   "source": [
    "### Step 4-2 : Feature Extraction (Bag of Words)\n",
    "A bag of words model, or BoW for short is a way of extracting features from text for use in modelling, such as with machine learning algorithms. It is a representation of tet that describes teh occurence of words within a document. It involves two things\n",
    "\n",
    "A vocabulary of known words\n",
    "A measure of the presence of known words\n",
    "The doc2bow method of dictionary, iterates through all the words in the text, if the word already exists in the corpus, it increments the frequency count, other wise it inserts the word into the corpus and sets it freqeuncy count to 1"
   ]
  },
  {
   "cell_type": "code",
   "execution_count": 14,
   "id": "0562f703",
   "metadata": {},
   "outputs": [
    {
     "name": "stdout",
     "output_type": "stream",
     "text": [
      "[[('affect', 1), ('area', 1), ('arguably', 1), ('ask', 2), ('averse', 1), ('base', 1), ('ben', 2), ('cable', 3), ('candidate', 2), ('central', 1), ('chloe', 2), ('college', 1), ('concern', 1), ('conservation', 1), ('cove', 3), ('deem', 1), ('deny', 1), ('different', 1), ('dissertation', 1), ('distance', 1), ('echo', 1), ('economics', 1), ('endangered', 1), ('eventually', 1), ('fall', 1), ('field', 1), ('fish', 1), ('guide', 1), ('having', 2), ('help', 2), ('home', 1), ('incomplete', 1), ('independence', 1), ('interest', 1), ('knowledgeable', 1), ('let', 1), ('like', 1), ('locale', 1), ('locate', 1), ('mammalogy', 1), ('marcus', 2), ('marine', 2), ('miami', 1), ('non', 1), ('northwest', 1), ('obstacle', 1), ('operate', 1), ('opportune', 1), ('opportunity', 1), ('orca', 2), ('orcas', 1), ('pacific', 1), ('person', 1), ('pod', 1), ('population', 3), ('possibility', 1), ('problem', 1), ('project', 2), ('reevaluate', 1), ('regardless', 1), ('relationship', 4), ('research', 3), ('resident', 3), ('respect', 2), ('salish', 1), ('sea', 1), ('small', 1), ('southern', 3), ('specifically', 1), ('spend', 1), ('start', 1), ('state', 1), ('stay', 1), ('study', 2), ('think', 1), ('time', 2), ('tour', 1), ('tropical', 1), ('try', 1), ('turn', 1), ('turner', 1), ('want', 1), ('washington', 1), ('water', 1), ('wavelength', 1), ('week', 1), ('whale', 1), ('winters', 1)]]\n"
     ]
    }
   ],
   "source": [
    "# Assuming corpus is a list of bag-of-words representations for each document\n",
    "corpus = [dictionary.doc2bow(desc) for desc in movie_plot]\n",
    "\n",
    "# Extract word frequencies from the first 3 documents in the corpus\n",
    "word_frequencies = []\n",
    "for doc_bow in corpus[:1]:\n",
    "    word_frequency_doc = [(dictionary[id], frequency) for id, frequency in doc_bow]\n",
    "    word_frequencies.append(word_frequency_doc)\n",
    "\n",
    "print(word_frequencies)"
   ]
  },
  {
   "cell_type": "markdown",
   "id": "630afe9d",
   "metadata": {},
   "source": [
    "The above results shows vocabulary with their frequency.\n",
    "\n",
    "Build Tf-Idf and LSI Model\n",
    "Tf-Idf means, Term frequency-Inverse Document Frequency. it is a commonly used NLP model that helps you determine the most important words in each document in the corpus. Once the Tf-Idf is build, pass it to LSI model and specify the num of features to build"
   ]
  },
  {
   "cell_type": "code",
   "execution_count": 15,
   "id": "7af8a35b",
   "metadata": {},
   "outputs": [
    {
     "name": "stdout",
     "output_type": "stream",
     "text": [
      "Wall time: 113 ms\n",
      "Wall time: 3.86 s\n"
     ]
    }
   ],
   "source": [
    "# Create a TF-IDF model\n",
    "%time movie_tfidf_model = gensim.models.TfidfModel(corpus, id2word=dictionary)\n",
    "\n",
    "# Create an LSI model using the TF-IDF model\n",
    "%time movie_lsi_model = gensim.models.LsiModel(movie_tfidf_model[corpus], id2word=dictionary, num_topics=300)"
   ]
  },
  {
   "cell_type": "markdown",
   "id": "b7ecebde",
   "metadata": {},
   "source": [
    "Serialize and Store the corpus locally for easy retrival whenver required."
   ]
  },
  {
   "cell_type": "code",
   "execution_count": 16,
   "id": "77de06b8",
   "metadata": {},
   "outputs": [
    {
     "name": "stdout",
     "output_type": "stream",
     "text": [
      "Wall time: 1.03 s\n",
      "Wall time: 6.13 s\n"
     ]
    }
   ],
   "source": [
    "# Serialize the TF-IDF model to disk\n",
    "%time gensim.corpora.MmCorpus.serialize('C:/Users/Mustafa Abdulnasser/Desktop/Task 3/models/tfidf-lsi-models/movie_tfidf_model_mm', movie_tfidf_model[corpus])\n",
    "\n",
    "# Serialize the LSI model to disk\n",
    "%time gensim.corpora.MmCorpus.serialize('C:/Users/Mustafa Abdulnasser/Desktop/Task 3/models/tfidf-lsi-models/movie_lsi_model_mm', movie_lsi_model[movie_tfidf_model[corpus]])"
   ]
  },
  {
   "cell_type": "code",
   "execution_count": 17,
   "id": "35e7253f",
   "metadata": {},
   "outputs": [
    {
     "name": "stdout",
     "output_type": "stream",
     "text": [
      "MmCorpus(9746 documents, 28637 features, 314736 non-zero entries)\n",
      "MmCorpus(9746 documents, 300 features, 2923800 non-zero entries)\n"
     ]
    }
   ],
   "source": [
    "# Load the TF-IDF corpus from disk\n",
    "movie_tfidf_corpus = gensim.corpora.MmCorpus('C:/Users/Mustafa Abdulnasser/Desktop/Task 3/models/tfidf-lsi-models/movie_tfidf_model_mm')\n",
    "\n",
    "# Load the LSI corpus from disk\n",
    "movie_lsi_corpus = gensim.corpora.MmCorpus('C:/Users/Mustafa Abdulnasser/Desktop/Task 3/models/tfidf-lsi-models/movie_lsi_model_mm')\n",
    "\n",
    "# Print the TF-IDF corpus\n",
    "print(movie_tfidf_corpus)\n",
    "\n",
    "# Print the LSI corpus\n",
    "print(movie_lsi_corpus)"
   ]
  },
  {
   "cell_type": "code",
   "execution_count": 18,
   "id": "1ec216ef",
   "metadata": {},
   "outputs": [
    {
     "name": "stdout",
     "output_type": "stream",
     "text": [
      "Wall time: 3.7 s\n"
     ]
    }
   ],
   "source": [
    "# Create a similarity index for the LSI corpus\n",
    "%time movie_index = MatrixSimilarity(movie_lsi_corpus, num_features=movie_lsi_corpus.num_terms)"
   ]
  },
  {
   "cell_type": "markdown",
   "id": "3421dbf6",
   "metadata": {},
   "source": [
    "We will input a search query and model will return relevant movie titles. The higher the similarity score, the more similar the query to the documetn at the given index\n",
    "\n",
    "Now, let's embark on an exciting journey of basic semantic search tailored for uncovering hot keywords. With the movie index initialized and loaded, our aim is to input a search query and unveil the most relevant hot keywords.\n",
    "\n",
    "The process involves using LSI weights to identify the terms that contribute significantly to the semantic meaning of the documents in the index. Each keyword will be associated with a word, indicating its importance in the context of the query."
   ]
  },
  {
   "cell_type": "code",
   "execution_count": 19,
   "id": "30552093",
   "metadata": {},
   "outputs": [],
   "source": [
    "# Create a MovieSearch object with specified components\n",
    "movie_search = MovieSearch(\n",
    "    tokenizer=utils,           # 'utils' is an instance of a tokenizer\n",
    "    dictionary=dictionary,     # Dictionary used in the models\n",
    "    movie_tfidf_model=movie_tfidf_model,   # TF-IDF model\n",
    "    movie_lsi_model=movie_lsi_model,       # LSI model\n",
    "    movie_index=movie_index,               # Similarity index\n",
    "    df=df                    # DataFrame 'df' containing movie information\n",
    ")"
   ]
  },
  {
   "cell_type": "code",
   "execution_count": 27,
   "id": "c8b4ea81",
   "metadata": {},
   "outputs": [
    {
     "name": "stdout",
     "output_type": "stream",
     "text": [
      "Most Similar Movies with Hot Keywords:\n",
      "\n",
      "Title: Babe Ruth\n",
      "Genre: Drama, Mystery, Romance, Back to top\n",
      "Year: 1991\n",
      "Hot Keywords: ['chloe', 'area', 'want', 'deny', 'evil', 'historic', 'poise', 'flak', 'fashionable', 'kitsunes']\n",
      "\n",
      "**************************************************\n",
      "\n",
      "Most Similar Movies with Hot Keywords:\n",
      "\n",
      "Title: Possible Side Effects\n",
      "Genre: Comedy, Back to top\n",
      "Year: 2009\n",
      "Hot Keywords: ['area', 'winters', 'teammate', 'dodds', 'college', 'farmer', 'daughter', 'sir', 'cheap', 'emerge']\n",
      "\n",
      "**************************************************\n",
      "\n",
      "Most Similar Movies with Hot Keywords:\n",
      "\n",
      "Title: The Sisterhood\n",
      "Genre: Drama, War, Back to top\n",
      "Year: 2019\n",
      "Hot Keywords: ['area', 'teammate', 'salish', 'flak', 'help', 'status', 'true', 'endangered', 'set', 'dance']\n",
      "\n",
      "**************************************************\n",
      "\n"
     ]
    }
   ],
   "source": [
    "# Specify the search term\n",
    "search_term = \"The Other Guys\"\n",
    "\n",
    "# Use the MovieSearch object to find similar movies\n",
    "similar_movies_info = movie_search.search_similar_movies(search_term)\n",
    "\n",
    "# Display information about similar movies\n",
    "for movie_info in similar_movies_info:\n",
    "    print(\"Most Similar Movies with Hot Keywords:\\n\")\n",
    "    print(f\"Title: {movie_info['Title']}\")\n",
    "    print(f\"Genre: {movie_info['Genre']}\")\n",
    "    print(f\"Year: {movie_info['Year']:.0f}\")  # Format the year as an integer\n",
    "    print(f\"Hot Keywords: {movie_info['Hot Keywords']}\")\n",
    "    \n",
    "    # Add a separator line between movies for better readability\n",
    "    print(\"\\n\" + \"*\" * 50 + \"\\n\")"
   ]
  },
  {
   "cell_type": "markdown",
   "id": "0ed77eec",
   "metadata": {},
   "source": [
    "## Step 5 : Unveiling Hot Keywords with Word2Vec Semantic Search:\n",
    "Unveiling Hot Keywords with Word2Vec Semantic Search\n",
    "In this section, we will leverage the Word2Vec model to perform a basic semantic search. The model takes a search query and returns relevant movie titles based on the similarity score. The higher the similarity score, the more similar the query is to the document at the given index.\n",
    "\n",
    "To achieve this:\n",
    "\n",
    "#### Input Query: Provide a search query.\n",
    "#### Compute Similarities: Utilize the Word2Vec model to calculate the similarity between the query and the movie synopses.\n",
    "#### Extract Hot Keywords using two ways: Identify significant terms using Word2Vec weights, indicating their importance in the context of the query.\n",
    "   ****User-Defined Method:**** Utilize a user-defined method developed to extract hot keywords. This method may be tailored to specific requirements or domain knowledge.\n",
    "\n",
    "   ****YAKE (Yet Another Keyword Extractor):**** Alternatively, employ YAKE, a robust keyword extraction tool, to identify additional relevant terms contributing to the semantic meaning of the documents.\n",
    "#### Present Results: Unveil the most relevant movie titles along with their associated hot keywords."
   ]
  },
  {
   "cell_type": "code",
   "execution_count": 29,
   "id": "ad99ee08",
   "metadata": {},
   "outputs": [],
   "source": [
    "# Train a Word2Vec model on the 'movie_plot' data\n",
    "# Parameters:\n",
    "# - vector_size: The size of the word vectors (100 in this case)\n",
    "# - window: The maximum distance between the current and predicted word within a sentence (10 in this case)\n",
    "# - min_count: Ignores all words with a total frequency lower than this (1 in this case, include even infrequent words)\n",
    "# - workers: Number of CPU cores to use (4 in this case)\n",
    "word2vec_model = Word2Vec(movie_plot, vector_size=100, window=10, min_count=1, workers=4)"
   ]
  },
  {
   "cell_type": "code",
   "execution_count": 30,
   "id": "7c7af9f3",
   "metadata": {},
   "outputs": [],
   "source": [
    "# Save the trained Word2Vec model to a file\n",
    "word2vec_model.save(\"word2vec_imdb.model\")"
   ]
  },
  {
   "cell_type": "code",
   "execution_count": 13,
   "id": "71849b4f",
   "metadata": {},
   "outputs": [],
   "source": [
    "# Create a Word2VecSearch object for searching using the Word2Vec model\n",
    "word2vec_search = Word2VecSearch(word2vec_model_path='word2vec_imdb.model', tokenizer=utils)"
   ]
  },
  {
   "cell_type": "code",
   "execution_count": 39,
   "id": "8a0fd223",
   "metadata": {},
   "outputs": [
    {
     "name": "stdout",
     "output_type": "stream",
     "text": [
      "Most Similar Movies:\n",
      "Title: The Rocky Horror Picture Show: Let's Do the Time Warp Again\n",
      "Genre: Comedy, Romance, Back to top\n",
      "Year: 2016\n",
      "\n",
      "**************************************************\n",
      "\n",
      "Title: The Child in Time\n",
      "Genre: Drama, Romance, Back to top\n",
      "Year: 2017\n",
      "\n",
      "**************************************************\n",
      "\n",
      "Title: AD/BC: A Rock Opera\n",
      "Genre: Comedy, Romance, Back to top\n",
      "Year: 2004\n",
      "\n",
      "**************************************************\n",
      "\n"
     ]
    }
   ],
   "source": [
    "# Perform semantic search using Word2Vec for movies similar to 'A Splash of Love'\n",
    "most_similar_movies_word2vec = word2vec_search.semantic_search_word2vec(query_title='A Splash of Love', df=df, yake=False)\n",
    "\n",
    "# Print the Most Similar Movies\n",
    "print(\"Most Similar Movies:\")\n",
    "for index, row in most_similar_movies_word2vec.iterrows():\n",
    "    print(f\"Title: {row['movie_title']}\")\n",
    "    print(f\"Genre: {row['genre']}\")\n",
    "    print(f\"Year: {row['year']:.0f}\")  # Format the year as an integer\n",
    "    print(\"\\n\" + \"*\" * 50 + \"\\n\")  # Add stars between movies"
   ]
  },
  {
   "cell_type": "code",
   "execution_count": 41,
   "id": "d504b89d",
   "metadata": {},
   "outputs": [
    {
     "name": "stdout",
     "output_type": "stream",
     "text": [
      "\n",
      "Hot Keywords for Movie: The Rocky Horror Picture Show: Let's Do the Time Warp Again\n",
      "  Word: from, Similarity: 0.9987\n",
      "  Word: for, Similarity: 0.9969\n",
      "  Word: respect, Similarity: 0.9963\n",
      "  Word: problems, Similarity: 0.9953\n",
      "  Word: having, Similarity: 0.9946\n",
      "\n",
      "**************************************************\n",
      "\n",
      "\n",
      "Hot Keywords for Movie: The Child in Time\n",
      "  Word: pursuing, Similarity: 0.9986\n",
      "  Word: relationship, Similarity: 0.9981\n",
      "  Word: ownership, Similarity: 0.9977\n",
      "  Word: it, Similarity: 0.9967\n",
      "  Word: sparks, Similarity: 0.9946\n",
      "\n",
      "**************************************************\n",
      "\n",
      "\n",
      "Hot Keywords for Movie: AD/BC: A Rock Opera\n",
      "  Word: keeping, Similarity: 0.9985\n",
      "  Word: largely, Similarity: 0.9961\n",
      "  Word: throws, Similarity: 0.9955\n",
      "  Word: especially, Similarity: 0.9954\n",
      "  Word: all, Similarity: 0.9948\n",
      "\n",
      "**************************************************\n",
      "\n"
     ]
    }
   ],
   "source": [
    "# Extract Hot Keywords for each similar movie\n",
    "for index, row in most_similar_movies_word2vec.iterrows():\n",
    "    movie_title = row['movie_title']\n",
    "    movie_synopsis = row['synopsis']\n",
    "\n",
    "    # Extract top 5 hot keywords for the movie's synopsis\n",
    "    hot_keywords = word2vec_search.extract_hot_keywords_word2vec(movie_synopsis, top_keywords=5)\n",
    "\n",
    "    print(f\"\\nHot Keywords for Movie: {movie_title}\")\n",
    "    for word, similarity in hot_keywords:\n",
    "        print(f\"  Word: {word}, Similarity: {similarity:.4f}\")\n",
    "\n",
    "    # Print stars between movies for better readability\n",
    "    print(\"\\n\" + \"*\" * 50 + \"\\n\")"
   ]
  },
  {
   "cell_type": "code",
   "execution_count": 14,
   "id": "6bea18ee",
   "metadata": {},
   "outputs": [
    {
     "name": "stdout",
     "output_type": "stream",
     "text": [
      "Movie with title 'The Other Guys' not found. Searching based on movie title with other movies' synopses.\n",
      "Most Similar Movies with Hot Keywords:\n",
      "Title: A Christmas Movie Christmas\n",
      "Genre: Drama, Back to top\n",
      "Year: 2019\n",
      "Hot Keywords: ['sugar daddy decision', 'art history transfer', 'majoring art history', 'junior majoring art', 'transfer local community']\n",
      "\n",
      "**************************************************\n",
      "\n",
      "Title: Stranger in My Bed\n",
      "Genre: Comedy, Romance, Back to top\n",
      "Year: 2005\n",
      "Hot Keywords: ['mind potentially painful', 'work reflect grade', 'reluctance open potentially', 'painful heartache fail', 'math teacher middle']\n",
      "\n",
      "**************************************************\n",
      "\n",
      "Title: The Exotic Time Machine II: Forbidden Encounters\n",
      "Genre: Comedy, Back to top\n",
      "Year: 2000\n",
      "Hot Keywords: ['clark daryl sabara', 'neve chloe bridges', 'chloe bridges heather', 'heather haley ramm', 'evening thing bad']\n",
      "\n",
      "**************************************************\n",
      "\n"
     ]
    }
   ],
   "source": [
    "#Perform semantic search with hot keywords using Word2Vec for movies similar to 'The Other Guys'\n",
    "most_similar_movies_word2vec_with_keywords = word2vec_search.semantic_search_word2vec(query_title='The Other Guys', \n",
    "                                                                                      df=df, yake=True)\n",
    "\n",
    "# Print the result with hot keywords\n",
    "print(\"Most Similar Movies with Hot Keywords:\")\n",
    "for index, row in most_similar_movies_word2vec_with_keywords.iterrows():\n",
    "    print(f\"Title: {row['movie_title']}\")\n",
    "    print(f\"Genre: {row['genre']}\")\n",
    "    print(f\"Year: {row['year']:.0f}\")  # Format the year as an integer\n",
    "    print(f\"Hot Keywords: {row['Hot Keywords']}\")\n",
    "    print(\"\\n\" + \"*\" * 50 + \"\\n\")  # Add stars between movies"
   ]
  },
  {
   "cell_type": "markdown",
   "id": "8eaa135d",
   "metadata": {},
   "source": [
    "## Step 6 : Unveiling Hot Keywords with Sentence Transformers Search\n",
    "Sentence Transformers are a type of pre-trained transformer-based models designed for encoding and understanding the semantic meaning of sentences. These models, often fine-tuned on specific tasks, are adept at capturing contextual relationships and semantic nuances within the text.\n",
    "\n",
    "#### Semantic Search Process:\n",
    "**Input Query** : Begin by inputting a search query, representing the user's information need.\n",
    "\n",
    "**Sentence Embeddings** : Utilize the Sentence Transformer model to convert the query and movie synopses into high-dimensional embeddings, capturing their semantic content.\n",
    "\n",
    "**Compute Similarities**: Calculate similarity scores between the query embedding and the embeddings of movie synopses. This reflects the semantic similarity between the query and each movie synopsis.\n",
    "\n",
    "**Extract Hot Keywords by two ways:**\n",
    "\n",
    "   ****User-Defined Method:**** Utilize a user-defined method developed to extract hot keywords. This method may be tailored to specific requirements or domain knowledge.\n",
    "\n",
    "   ****YAKE (Yet Another Keyword Extractor):**** Alternatively, employ YAKE, a robust keyword extraction tool, to identify additional relevant terms contributing to the semantic meaning of the documents.\n",
    "\n",
    "**Present Results:** Unveil the most relevant movie titles along with their associated hot keywords, providing insights into the semantic relationships discovered by the Sentence Transformer.\n",
    "\n",
    "**Key Advantages:**\n",
    "\n",
    "   ****Contextual Understanding:**** Sentence Transformers capture contextual information, allowing them to understand the meaning of words within the context of a sentence.\n",
    "\n",
    "   ****Semantic Relationships:**** These models excel at revealing semantic relationships between sentences, making them suitable for tasks like semantic search."
   ]
  },
  {
   "cell_type": "code",
   "execution_count": 15,
   "id": "f913ad6a",
   "metadata": {},
   "outputs": [],
   "source": [
    "# Load the Sentence Transformer model\n",
    "sentence_transformer_model = SentenceTransformer('all-MiniLM-L6-v2')\n",
    "\n",
    "# Create a TransformerSearch object with the loaded sentence transformer model\n",
    "transformer_search = TransformerSearch(sentence_transformer_model=sentence_transformer_model)"
   ]
  },
  {
   "cell_type": "code",
   "execution_count": 16,
   "id": "d60c5d2f",
   "metadata": {},
   "outputs": [
    {
     "name": "stdout",
     "output_type": "stream",
     "text": [
      "Most Similar Movies:\n",
      "Title: The Rocky Horror Picture Show: Let's Do the Time Warp Again\n",
      "Genre: Comedy, Romance, Back to top\n",
      "Year: 2016\n",
      "\n",
      "**************************************************\n",
      "\n",
      "Title: Love on Safari\n",
      "Genre: Drama, Romance, Back to top\n",
      "Year: 2018\n",
      "\n",
      "**************************************************\n",
      "\n",
      "Title: Stone Pillow\n",
      "Genre: Comedy, Romance, Back to top\n",
      "Year: 1985\n",
      "\n",
      "**************************************************\n",
      "\n"
     ]
    }
   ],
   "source": [
    "# Perform semantic search using the Transformer model for movies similar to 'A Splash of Love'\n",
    "most_similar_movies_transformer = transformer_search.semantic_search_transformer(query_title='A Splash of Love',\n",
    "                                                                                 df=df, yake=False)\n",
    "\n",
    "# Print the Most Similar Movies\n",
    "print(\"Most Similar Movies:\")\n",
    "for index, row in most_similar_movies_transformer.iterrows():\n",
    "    print(f\"Title: {row['movie_title']}\")\n",
    "    print(f\"Genre: {row['genre']}\")\n",
    "    print(f\"Year: {row['year']:.0f}\")  # Format the year as an integer\n",
    "    print(\"\\n\" + \"*\" * 50 + \"\\n\")  # Add stars between movies"
   ]
  },
  {
   "cell_type": "code",
   "execution_count": 18,
   "id": "3cf0584f",
   "metadata": {},
   "outputs": [
    {
     "name": "stdout",
     "output_type": "stream",
     "text": [
      "\n",
      "Hot Keywords for Movie: The Rocky Horror Picture Show: Let's Do the Time Warp Again\n",
      "  Word: let, Similarity: 0.6263\n",
      "  Word: concerning, Similarity: 0.6241\n",
      "  Word: specifically, Similarity: 0.6083\n",
      "  Word: arguably, Similarity: 0.6037\n",
      "  Word: project, Similarity: 0.6012\n",
      "\n",
      "**************************************************\n",
      "\n",
      "\n",
      "Hot Keywords for Movie: Love on Safari\n",
      "  Word: subject, Similarity: 0.6740\n",
      "  Word: writes, Similarity: 0.6634\n",
      "  Word: come, Similarity: 0.6420\n",
      "  Word: writer, Similarity: 0.6141\n",
      "  Word: having, Similarity: 0.6107\n",
      "\n",
      "**************************************************\n",
      "\n",
      "\n",
      "Hot Keywords for Movie: Stone Pillow\n",
      "  Word: fellow, Similarity: 0.6517\n",
      "  Word: interesting, Similarity: 0.6308\n",
      "  Word: friend, Similarity: 0.6104\n",
      "  Word: allison, Similarity: 0.6027\n",
      "  Word: way, Similarity: 0.6018\n",
      "\n",
      "**************************************************\n",
      "\n"
     ]
    }
   ],
   "source": [
    "# Extract Hot Keywords for each similar movie using the Transformer model\n",
    "for index, row in most_similar_movies_transformer.iterrows():\n",
    "    movie_title = row['movie_title']\n",
    "    movie_synopsis = row['synopsis']\n",
    "\n",
    "    # Extract hot keywords from the movie's synopsis\n",
    "    hot_keywords = transformer_search.extract_hot_keywords_transformer(movie_synopsis)\n",
    "\n",
    "    print(f\"\\nHot Keywords for Movie: {movie_title}\")\n",
    "    for word, similarity in hot_keywords:\n",
    "        print(f\"  Word: {word}, Similarity: {similarity:.4f}\")\n",
    "\n",
    "    # Print stars between movies for better readability\n",
    "    print(\"\\n\" + \"*\" * 50 + \"\\n\")"
   ]
  },
  {
   "cell_type": "code",
   "execution_count": 19,
   "id": "4f1257db",
   "metadata": {
    "scrolled": true
   },
   "outputs": [
    {
     "name": "stdout",
     "output_type": "stream",
     "text": [
      "Movie with title 'The Other Guys' not found. Searching based on movie title with other movies' synopses.\n",
      "\n",
      "Most Similar Movies with Hot Keywords:\n",
      "Title: Haunted High\n",
      "Genre: Comedy, Back to top\n",
      "Year: 2012\n",
      "Hot Keywords: ['offbeat eccentric friends', 'awkward experiences racy', 'experiences racy tribulations', 'tribulations manny offbeat', 'friends']\n",
      "\n",
      "**************************************************\n",
      "\n",
      "Title: The Choking Game\n",
      "Genre: Comedy, Drama, Back to top\n",
      "Year: 2014\n",
      "Hot Keywords: ['group men kent', 'form large plot', 'men kent clive', 'martin clunes rob', 'clunes rob neil']\n",
      "\n",
      "**************************************************\n",
      "\n",
      "Title: Last Rites\n",
      "Genre: Comedy, Drama, Sport, Back to top\n",
      "Year: 1998\n",
      "Hot Keywords: ['day life group', 'baseball team game', 'group gambling buddies', 'buddies sit beloved', 'sit beloved baseball']\n",
      "\n",
      "**************************************************\n",
      "\n"
     ]
    }
   ],
   "source": [
    "# Example usage: Perform semantic search with hot keywords using the Transformer model for movies similar to 'The Other Guys'\n",
    "most_similar_movies_transformer_with_keywords = transformer_search.semantic_search_transformer(query_title='The Other Guys',\n",
    "                                                                                               df=df, yake=True)\n",
    "\n",
    "# Print the result with hot keywords\n",
    "print(\"\\nMost Similar Movies with Hot Keywords:\")\n",
    "for index, row in most_similar_movies_transformer_with_keywords.iterrows():\n",
    "    print(f\"Title: {row['movie_title']}\")\n",
    "    print(f\"Genre: {row['genre']}\")\n",
    "    print(f\"Year: {row['year']:.0f}\")  # Format the year as an integer\n",
    "    print(f\"Hot Keywords: {row['Hot Keywords']}\")\n",
    "    print(\"\\n\" + \"*\" * 50 + \"\\n\")  # Add stars between movies"
   ]
  },
  {
   "cell_type": "code",
   "execution_count": null,
   "id": "b0f98fe6",
   "metadata": {},
   "outputs": [],
   "source": []
  }
 ],
 "metadata": {
  "kernelspec": {
   "display_name": "Python 3 (ipykernel)",
   "language": "python",
   "name": "python3"
  },
  "language_info": {
   "codemirror_mode": {
    "name": "ipython",
    "version": 3
   },
   "file_extension": ".py",
   "mimetype": "text/x-python",
   "name": "python",
   "nbconvert_exporter": "python",
   "pygments_lexer": "ipython3",
   "version": "3.9.13"
  }
 },
 "nbformat": 4,
 "nbformat_minor": 5
}
